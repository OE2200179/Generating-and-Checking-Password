{
 "cells": [
  {
   "attachments": {},
   "cell_type": "markdown",
   "metadata": {},
   "source": [
    "# CASES\n",
    "### Strong Password\n",
    "- Minimum 8 characters.\n",
    "- The alphabets must be between [a-z]\n",
    "- At least one alphabet should be of Upper Case [A-Z]\n",
    "- At least 1 number or digit between [0-9].\n",
    "- At least 1 character from [ !@#$%^&*()-+ ].\n",
    "### Moderate Password\n",
    "- Minimum 8 characters.\n",
    "- The alphabets must be between [a-z]\n",
    "- At least one alphabet should be of Upper Case [A-Z]\n",
    "- At least 1 number or digit between [0-9].\n",
    "### Weak Password\n",
    "- All other cases."
   ]
  },
  {
   "cell_type": "code",
   "execution_count": 130,
   "metadata": {},
   "outputs": [],
   "source": [
    "import random"
   ]
  },
  {
   "cell_type": "code",
   "execution_count": 131,
   "metadata": {},
   "outputs": [],
   "source": [
    "capital_alphabets=\"ABCDEFGHIJKLMNOPQRSTUVWXYZ\"\n",
    "small_alphabets=\"abcdefghijklmnopqrstuvwxyz\"\n",
    "digits=\"0123456789\"\n",
    "special_char=\"!@#$%^&*()-+\""
   ]
  },
  {
   "cell_type": "code",
   "execution_count": 132,
   "metadata": {},
   "outputs": [],
   "source": [
    "DICTIONARY = [\n",
    "    \"password\",\n",
    "    \"cyber\",\n",
    "    \"security\",\n",
    "    \"hack\",\n",
    "    \"omar\",\n",
    "    \"morcy\",\n",
    "    \"2000\",\n",
    "    \"conventry\",\n",
    "    \"pasta\",\n",
    "    \"dog\"\n",
    "]"
   ]
  },
  {
   "cell_type": "code",
   "execution_count": 133,
   "metadata": {},
   "outputs": [],
   "source": [
    "NAMES = [\n",
    "    \"omar\",\n",
    "    \"morcy\",\n",
    "    \"william\",\n",
    "    \"john\",\n",
    "    \"doe\",\n",
    "    \"jane\",\n",
    "    \"joe\",\n",
    "    \"james\",\n",
    "    \"jim\",\n",
    "    \"jimmy\",\n",
    "]"
   ]
  },
  {
   "cell_type": "code",
   "execution_count": 134,
   "metadata": {},
   "outputs": [],
   "source": [
    "# generate common phrases\n",
    "def generate_common_phrases():\n",
    "    phrases = []\n",
    "    for i in range(100):\n",
    "        phrases.append(\"\".join(random.choice(small_alphabets + capital_alphabets + digits + special_char) \n",
    "                               for _ in range(random.randint(2, 5))))\n",
    "    return phrases"
   ]
  },
  {
   "cell_type": "code",
   "execution_count": 135,
   "metadata": {},
   "outputs": [],
   "source": [
    "COMMON_PHRASES_GENERATED = generate_common_phrases()"
   ]
  },
  {
   "cell_type": "code",
   "execution_count": 136,
   "metadata": {},
   "outputs": [],
   "source": [
    "def password_checker(password):\n",
    "    s = password\n",
    "    lower, upper, Sp, di = 0, 0, 0, 0\n",
    "    if (len(s) >= 8):\n",
    "        for i in s:\n",
    "            # counting lowercase alphabets\n",
    "            if (i in small_alphabets):\n",
    "                lower+=1           \n",
    "\n",
    "            # counting uppercase alphabets\n",
    "            if (i in capital_alphabets):\n",
    "                upper+=1           \n",
    "    \n",
    "            # counting digits\n",
    "            if (i in digits):\n",
    "                di+=1           \n",
    "\n",
    "            # counting the mentioned special characters\n",
    "            if(i in special_char):\n",
    "                Sp+=1       \n",
    "\n",
    "    if (lower>=1 and upper>=1 and Sp>=1 and di>=1):\n",
    "        print(\"Strong Password\")\n",
    "    elif (Sp == 0 and lower >= 1 and upper >= 1 and di >= 1):\n",
    "        print(\"Moderate Password\")\n",
    "    else:\n",
    "        print(\"Weak Password\")"
   ]
  },
  {
   "cell_type": "code",
   "execution_count": 137,
   "metadata": {},
   "outputs": [
    {
     "name": "stdout",
     "output_type": "stream",
     "text": [
      "Weak Password\n"
     ]
    }
   ],
   "source": [
    "password_checker(\"Password\")"
   ]
  },
  {
   "cell_type": "code",
   "execution_count": 138,
   "metadata": {},
   "outputs": [],
   "source": [
    "def generate_password():\n",
    "    password = \"\"\n",
    "    for i in range(2):\n",
    "        password += random.choice(small_alphabets)\n",
    "        password += random.choice(capital_alphabets)\n",
    "        password += random.choice(digits)\n",
    "        password += random.choice(special_char)\n",
    "        \n",
    "        # Check if password contains repeated patterns\n",
    "    while any(password[i:i+2] in password[i+2:] for i in range(len(password) - 2)):\n",
    "        # if it does, generate a new password\n",
    "        password = generate_password()\n",
    "        \n",
    "    # Check if password contains common phrases generated\n",
    "    while any(phrase.lower() in password.lower() for phrase in COMMON_PHRASES_GENERATED):\n",
    "        # lets say password \"Omar\"\n",
    "        # common phrase \"oma\"\n",
    "        password = generate_password()\n",
    "        \n",
    "    # Check if password contains common phrases\n",
    "    while any(phrase.lower() in password.lower() for phrase in DICTIONARY):\n",
    "        password = generate_password()\n",
    "        \n",
    "    # Check if password contains common names\n",
    "    while any(name.lower() in password.lower() for name in NAMES):\n",
    "        password = generate_password()\n",
    "        \n",
    "    print(password)\n",
    "    password_checker(password)\n",
    "    return password"
   ]
  },
  {
   "cell_type": "code",
   "execution_count": 139,
   "metadata": {},
   "outputs": [
    {
     "name": "stdout",
     "output_type": "stream",
     "text": [
      "nH7!qT6+\n",
      "Strong Password\n"
     ]
    },
    {
     "data": {
      "text/plain": [
       "'nH7!qT6+'"
      ]
     },
     "execution_count": 139,
     "metadata": {},
     "output_type": "execute_result"
    }
   ],
   "source": [
    "generate_password()"
   ]
  },
  {
   "cell_type": "code",
   "execution_count": 140,
   "metadata": {},
   "outputs": [],
   "source": [
    "def generate_password2():\n",
    "    # generate password with at least 8 characters\n",
    "    password = \"\".join(random.choice(small_alphabets + capital_alphabets + digits + special_char) for _ in range(8))\n",
    "    \n",
    "    # check if password has at least 1 lower and 1 upper and 1 digit and 1 special character\n",
    "    has_lower = any(char.islower() for char in password)\n",
    "    has_upper = any(char.isupper() for char in password)\n",
    "    has_digit = any(char.isdigit() for char in password)\n",
    "    has_special_char = any(char in special_char for char in password)\n",
    "    \n",
    "    if not has_lower:\n",
    "        lower_position = random.randint(0, len(password))\n",
    "        password = password[:lower_position] + random.choice(small_alphabets) + password[lower_position:]\n",
    "        \n",
    "    if not has_upper:\n",
    "        upper_position = random.randint(0, len(password))\n",
    "        password = password[:upper_position] + random.choice(capital_alphabets) + password[upper_position:]\n",
    "    \n",
    "    # if password doesn't have digit, add one\n",
    "    if not has_digit:\n",
    "        # lets say password = \"abcde\"\n",
    "        # generate random position between 0 and 5\n",
    "        digit_position = random.randint(0, len(password))\n",
    "        # lets say digit_position = 2\n",
    "        password = password[:digit_position] + random.choice(digits) + password[digit_position:]\n",
    "        # password = \"ab\" + \"1\" + \"cde\"\n",
    "        \n",
    "    # if password doesn't have special character, add one\n",
    "    if not has_special_char:\n",
    "        special_char_position = random.randint(0, len(password))\n",
    "        password = password[:special_char_position] + random.choice(special_char) + password[special_char_position:]\n",
    "        \n",
    "    # Check if password contains repeated patterns\n",
    "    while any(password[i:i+2] in password[i+2:] for i in range(len(password) - 2)):\n",
    "        # if it does, generate a new password\n",
    "        password = generate_password2()\n",
    "        \n",
    "    # Check if password contains common phrases generated\n",
    "    while any(phrase.lower() in password.lower() for phrase in COMMON_PHRASES_GENERATED):\n",
    "        # lets say password \"Omar\"\n",
    "        # common phrase \"oma\"\n",
    "        password = generate_password2()\n",
    "        \n",
    "    # Check if password contains common phrases\n",
    "    while any(phrase.lower() in password.lower() for phrase in DICTIONARY):\n",
    "        password = generate_password2()\n",
    "        \n",
    "    # Check if password contains common names\n",
    "    while any(name.lower() in password.lower() for name in NAMES):\n",
    "        password = generate_password2()\n",
    "    \n",
    "    print(password)\n",
    "    print(\"Password Length: \", len(password))\n",
    "    password_checker(password)\n",
    "    return password"
   ]
  },
  {
   "cell_type": "code",
   "execution_count": 141,
   "metadata": {},
   "outputs": [
    {
     "name": "stdout",
     "output_type": "stream",
     "text": [
      "RB-1SLuwJ\n",
      "Password Length:  9\n",
      "Strong Password\n"
     ]
    },
    {
     "data": {
      "text/plain": [
       "'RB-1SLuwJ'"
      ]
     },
     "execution_count": 141,
     "metadata": {},
     "output_type": "execute_result"
    }
   ],
   "source": [
    "# password generated between 8 and 11 characters\n",
    "generate_password2()"
   ]
  },
  {
   "attachments": {},
   "cell_type": "markdown",
   "metadata": {},
   "source": [
    "# PROS & CONS\n",
    "## GENERATE PASSWORD 1\n",
    "### PROS\n",
    "- Each category has 2 characters in generated password.\n",
    "### CONS\n",
    "- Pattern can be detected.\n",
    "- Password will always has 8 characters.\n",
    "- Password will always has 2 lower case characters.\n",
    "- Password will always has 2 upper case characters.\n",
    "- Password will always has 2 digits.\n",
    "- Password will always has 2 special characters.\n",
    "## GENERATE PASSWORD 2\n",
    "### PROS\n",
    "- Password is generated more randomly than generate password 1.\n",
    "- Password length is not fixed between 8 and 11 characters.\n",
    "- Doesn't have a pattern.\n",
    "### CONS\n",
    "- NA"
   ]
  }
 ],
 "metadata": {
  "kernelspec": {
   "display_name": "Python 3",
   "language": "python",
   "name": "python3"
  },
  "language_info": {
   "codemirror_mode": {
    "name": "ipython",
    "version": 3
   },
   "file_extension": ".py",
   "mimetype": "text/x-python",
   "name": "python",
   "nbconvert_exporter": "python",
   "pygments_lexer": "ipython3",
   "version": "3.9.6"
  },
  "orig_nbformat": 4
 },
 "nbformat": 4,
 "nbformat_minor": 2
}
